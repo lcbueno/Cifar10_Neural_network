{
 "cells": [
  {
   "cell_type": "markdown",
   "id": "b017e400",
   "metadata": {
    "id": "lRHFdNYAfWKJ",
    "papermill": {
     "duration": 0.02545,
     "end_time": "2021-11-16T11:18:01.873277",
     "exception": false,
     "start_time": "2021-11-16T11:18:01.847827",
     "status": "completed"
    },
    "tags": []
   },
   "source": [
    "# Importing the Libraries"
   ]
  },
  {
   "cell_type": "code",
   "execution_count": 1,
   "id": "c37668f4",
   "metadata": {
    "execution": {
     "iopub.execute_input": "2021-11-16T11:18:01.927908Z",
     "iopub.status.busy": "2021-11-16T11:18:01.927359Z",
     "iopub.status.idle": "2021-11-16T11:18:07.472432Z",
     "shell.execute_reply": "2021-11-16T11:18:07.471429Z",
     "shell.execute_reply.started": "2021-11-15T23:07:34.819744Z"
    },
    "executionInfo": {
     "elapsed": 107007,
     "status": "ok",
     "timestamp": 1587343126430,
     "user": {
      "displayName": "Fabio Spak",
      "photoUrl": "https://lh3.googleusercontent.com/a-/AOh14Gh5tkVvfK14igqB5tm5e6mMjKYZxeZEPf0g3sbo5Q=s64",
      "userId": "12631437385440185352"
     },
     "user_tz": 180
    },
    "id": "tS5xFeQwe9Xu",
    "outputId": "acd272b1-447f-4101-b945-6e3c1cc55aae",
    "papermill": {
     "duration": 5.575103,
     "end_time": "2021-11-16T11:18:07.472595",
     "exception": false,
     "start_time": "2021-11-16T11:18:01.897492",
     "status": "completed"
    },
    "tags": []
   },
   "outputs": [],
   "source": [
    "import tensorflow as tf\n",
    "import matplotlib.pyplot as plt\n",
    "from tensorflow.keras.datasets import cifar10\n",
    "%matplotlib inline"
   ]
  },
  {
   "cell_type": "markdown",
   "id": "0d4d3957",
   "metadata": {
    "id": "e8zYubaPfy-S",
    "papermill": {
     "duration": 0.021456,
     "end_time": "2021-11-16T11:18:07.515952",
     "exception": false,
     "start_time": "2021-11-16T11:18:07.494496",
     "status": "completed"
    },
    "tags": []
   },
   "source": [
    "# Pre-processing"
   ]
  },
  {
   "cell_type": "markdown",
   "id": "bfe8f569",
   "metadata": {
    "id": "AOAGjiPogF0w",
    "papermill": {
     "duration": 0.021649,
     "end_time": "2021-11-16T11:18:07.559254",
     "exception": false,
     "start_time": "2021-11-16T11:18:07.537605",
     "status": "completed"
    },
    "tags": []
   },
   "source": [
    "### Loading the Cifar10 database"
   ]
  },
  {
   "cell_type": "code",
   "execution_count": 2,
   "id": "148c15d5",
   "metadata": {
    "execution": {
     "iopub.execute_input": "2021-11-16T11:18:07.605648Z",
     "iopub.status.busy": "2021-11-16T11:18:07.605048Z",
     "iopub.status.idle": "2021-11-16T11:18:07.608586Z",
     "shell.execute_reply": "2021-11-16T11:18:07.609024Z",
     "shell.execute_reply.started": "2021-11-15T23:07:34.830592Z"
    },
    "id": "v1N6LbS-e9a1",
    "papermill": {
     "duration": 0.028299,
     "end_time": "2021-11-16T11:18:07.609196",
     "exception": false,
     "start_time": "2021-11-16T11:18:07.580897",
     "status": "completed"
    },
    "tags": []
   },
   "outputs": [],
   "source": [
    "# Setting the name of the classes that will be predicted\n",
    "class_names = ['airplane', 'automobile', 'bird', 'cat', 'deer', 'dog', 'frog', 'horse', 'ship', 'truck']"
   ]
  },
  {
   "cell_type": "code",
   "execution_count": 3,
   "id": "4a50c572",
   "metadata": {
    "execution": {
     "iopub.execute_input": "2021-11-16T11:18:07.657465Z",
     "iopub.status.busy": "2021-11-16T11:18:07.656881Z",
     "iopub.status.idle": "2021-11-16T11:18:21.539962Z",
     "shell.execute_reply": "2021-11-16T11:18:21.539309Z",
     "shell.execute_reply.started": "2021-11-15T23:07:34.842669Z"
    },
    "executionInfo": {
     "elapsed": 122781,
     "status": "ok",
     "timestamp": 1587343142214,
     "user": {
      "displayName": "Fabio Spak",
      "photoUrl": "https://lh3.googleusercontent.com/a-/AOh14Gh5tkVvfK14igqB5tm5e6mMjKYZxeZEPf0g3sbo5Q=s64",
      "userId": "12631437385440185352"
     },
     "user_tz": 180
    },
    "id": "f13-8-m_fqKP",
    "outputId": "9d04576d-e968-42e6-b962-ab9cf9954efd",
    "papermill": {
     "duration": 13.908789,
     "end_time": "2021-11-16T11:18:21.540111",
     "exception": false,
     "start_time": "2021-11-16T11:18:07.631322",
     "status": "completed"
    },
    "tags": []
   },
   "outputs": [
    {
     "name": "stdout",
     "output_type": "stream",
     "text": [
      "Downloading data from https://www.cs.toronto.edu/~kriz/cifar-10-python.tar.gz\n",
      "170500096/170498071 [==============================] - 11s 0us/step\n",
      "170508288/170498071 [==============================] - 11s 0us/step\n"
     ]
    }
   ],
   "source": [
    "# Loading the database\n",
    "(X_train, y_train), (X_test, y_test) = cifar10.load_data()"
   ]
  },
  {
   "cell_type": "markdown",
   "id": "27aef93b",
   "metadata": {
    "id": "XqDIpsJWgUkz",
    "papermill": {
     "duration": 0.055001,
     "end_time": "2021-11-16T11:18:21.650781",
     "exception": false,
     "start_time": "2021-11-16T11:18:21.595780",
     "status": "completed"
    },
    "tags": []
   },
   "source": [
    "### Image normalization"
   ]
  },
  {
   "cell_type": "code",
   "execution_count": 4,
   "id": "6a7614bb",
   "metadata": {
    "execution": {
     "iopub.execute_input": "2021-11-16T11:18:21.771818Z",
     "iopub.status.busy": "2021-11-16T11:18:21.771170Z",
     "iopub.status.idle": "2021-11-16T11:18:21.774159Z",
     "shell.execute_reply": "2021-11-16T11:18:21.774594Z",
     "shell.execute_reply.started": "2021-11-15T23:07:35.700666Z"
    },
    "executionInfo": {
     "elapsed": 122775,
     "status": "ok",
     "timestamp": 1587343142215,
     "user": {
      "displayName": "Fabio Spak",
      "photoUrl": "https://lh3.googleusercontent.com/a-/AOh14Gh5tkVvfK14igqB5tm5e6mMjKYZxeZEPf0g3sbo5Q=s64",
      "userId": "12631437385440185352"
     },
     "user_tz": 180
    },
    "id": "ohcM5aeFpf2v",
    "outputId": "c0fe0900-9fde-44c1-db4f-af0f6a56c2ad",
    "papermill": {
     "duration": 0.067757,
     "end_time": "2021-11-16T11:18:21.774757",
     "exception": false,
     "start_time": "2021-11-16T11:18:21.707000",
     "status": "completed"
    },
    "tags": []
   },
   "outputs": [
    {
     "data": {
      "text/plain": [
       "array([[[ 59,  62,  63],\n",
       "        [ 43,  46,  45],\n",
       "        [ 50,  48,  43],\n",
       "        ...,\n",
       "        [158, 132, 108],\n",
       "        [152, 125, 102],\n",
       "        [148, 124, 103]],\n",
       "\n",
       "       [[ 16,  20,  20],\n",
       "        [  0,   0,   0],\n",
       "        [ 18,   8,   0],\n",
       "        ...,\n",
       "        [123,  88,  55],\n",
       "        [119,  83,  50],\n",
       "        [122,  87,  57]],\n",
       "\n",
       "       [[ 25,  24,  21],\n",
       "        [ 16,   7,   0],\n",
       "        [ 49,  27,   8],\n",
       "        ...,\n",
       "        [118,  84,  50],\n",
       "        [120,  84,  50],\n",
       "        [109,  73,  42]],\n",
       "\n",
       "       ...,\n",
       "\n",
       "       [[208, 170,  96],\n",
       "        [201, 153,  34],\n",
       "        [198, 161,  26],\n",
       "        ...,\n",
       "        [160, 133,  70],\n",
       "        [ 56,  31,   7],\n",
       "        [ 53,  34,  20]],\n",
       "\n",
       "       [[180, 139,  96],\n",
       "        [173, 123,  42],\n",
       "        [186, 144,  30],\n",
       "        ...,\n",
       "        [184, 148,  94],\n",
       "        [ 97,  62,  34],\n",
       "        [ 83,  53,  34]],\n",
       "\n",
       "       [[177, 144, 116],\n",
       "        [168, 129,  94],\n",
       "        [179, 142,  87],\n",
       "        ...,\n",
       "        [216, 184, 140],\n",
       "        [151, 118,  84],\n",
       "        [123,  92,  72]]], dtype=uint8)"
      ]
     },
     "execution_count": 4,
     "metadata": {},
     "output_type": "execute_result"
    }
   ],
   "source": [
    "X_train[0]"
   ]
  },
  {
   "cell_type": "code",
   "execution_count": 5,
   "id": "80d92107",
   "metadata": {
    "execution": {
     "iopub.execute_input": "2021-11-16T11:18:21.890689Z",
     "iopub.status.busy": "2021-11-16T11:18:21.889913Z",
     "iopub.status.idle": "2021-11-16T11:18:22.407667Z",
     "shell.execute_reply": "2021-11-16T11:18:22.406973Z",
     "shell.execute_reply.started": "2021-11-15T23:07:35.708461Z"
    },
    "id": "-QFncPlpgNmU",
    "papermill": {
     "duration": 0.577646,
     "end_time": "2021-11-16T11:18:22.407810",
     "exception": false,
     "start_time": "2021-11-16T11:18:21.830164",
     "status": "completed"
    },
    "tags": []
   },
   "outputs": [],
   "source": [
    "X_train = X_train / 255.0"
   ]
  },
  {
   "cell_type": "code",
   "execution_count": 6,
   "id": "a71c150e",
   "metadata": {
    "execution": {
     "iopub.execute_input": "2021-11-16T11:18:22.582140Z",
     "iopub.status.busy": "2021-11-16T11:18:22.581197Z",
     "iopub.status.idle": "2021-11-16T11:18:22.585028Z",
     "shell.execute_reply": "2021-11-16T11:18:22.584479Z",
     "shell.execute_reply.started": "2021-11-15T23:07:36.126902Z"
    },
    "executionInfo": {
     "elapsed": 123272,
     "status": "ok",
     "timestamp": 1587343142728,
     "user": {
      "displayName": "Fabio Spak",
      "photoUrl": "https://lh3.googleusercontent.com/a-/AOh14Gh5tkVvfK14igqB5tm5e6mMjKYZxeZEPf0g3sbo5Q=s64",
      "userId": "12631437385440185352"
     },
     "user_tz": 180
    },
    "id": "L1rFHX67gc6G",
    "outputId": "1447d653-1d68-48ad-9ca2-6f88b530b433",
    "papermill": {
     "duration": 0.063873,
     "end_time": "2021-11-16T11:18:22.585173",
     "exception": false,
     "start_time": "2021-11-16T11:18:22.521300",
     "status": "completed"
    },
    "tags": []
   },
   "outputs": [
    {
     "data": {
      "text/plain": [
       "(50000, 32, 32, 3)"
      ]
     },
     "execution_count": 6,
     "metadata": {},
     "output_type": "execute_result"
    }
   ],
   "source": [
    "X_train.shape"
   ]
  },
  {
   "cell_type": "code",
   "execution_count": 7,
   "id": "54b8ccba",
   "metadata": {
    "execution": {
     "iopub.execute_input": "2021-11-16T11:18:22.701927Z",
     "iopub.status.busy": "2021-11-16T11:18:22.701265Z",
     "iopub.status.idle": "2021-11-16T11:18:22.809330Z",
     "shell.execute_reply": "2021-11-16T11:18:22.808732Z",
     "shell.execute_reply.started": "2021-11-15T23:07:36.134207Z"
    },
    "id": "Ve2WbRGWgc3I",
    "papermill": {
     "duration": 0.169681,
     "end_time": "2021-11-16T11:18:22.809468",
     "exception": false,
     "start_time": "2021-11-16T11:18:22.639787",
     "status": "completed"
    },
    "tags": []
   },
   "outputs": [],
   "source": [
    "X_test = X_test / 255.0"
   ]
  },
  {
   "cell_type": "code",
   "execution_count": 8,
   "id": "e786866f",
   "metadata": {
    "execution": {
     "iopub.execute_input": "2021-11-16T11:18:22.922994Z",
     "iopub.status.busy": "2021-11-16T11:18:22.922418Z",
     "iopub.status.idle": "2021-11-16T11:18:23.149651Z",
     "shell.execute_reply": "2021-11-16T11:18:23.149160Z",
     "shell.execute_reply.started": "2021-11-15T23:07:36.247474Z"
    },
    "executionInfo": {
     "elapsed": 123262,
     "status": "ok",
     "timestamp": 1587343142729,
     "user": {
      "displayName": "Fabio Spak",
      "photoUrl": "https://lh3.googleusercontent.com/a-/AOh14Gh5tkVvfK14igqB5tm5e6mMjKYZxeZEPf0g3sbo5Q=s64",
      "userId": "12631437385440185352"
     },
     "user_tz": 180
    },
    "id": "7jwvNZ82gh9d",
    "outputId": "201021cd-fe98-435b-cf2a-60a8916f4f3c",
    "papermill": {
     "duration": 0.284651,
     "end_time": "2021-11-16T11:18:23.149782",
     "exception": false,
     "start_time": "2021-11-16T11:18:22.865131",
     "status": "completed"
    },
    "tags": []
   },
   "outputs": [
    {
     "data": {
      "text/plain": [
       "<matplotlib.image.AxesImage at 0x7efd7ef73dd0>"
      ]
     },
     "execution_count": 8,
     "metadata": {},
     "output_type": "execute_result"
    },
    {
     "data": {
      "image/png": "[encoded data removed]",
      "text/plain": [
       "<Figure size 432x288 with 1 Axes>"
      ]
     },
     "metadata": {
      "needs_background": "light"
     },
     "output_type": "display_data"
    }
   ],
   "source": [
    "plt.imshow(X_test[1])"
   ]
  },
  {
   "cell_type": "markdown",
   "id": "c6d33730",
   "metadata": {
    "id": "HXiuZulIguyf",
    "papermill": {
     "duration": 0.055862,
     "end_time": "2021-11-16T11:18:23.261798",
     "exception": false,
     "start_time": "2021-11-16T11:18:23.205936",
     "status": "completed"
    },
    "tags": []
   },
   "source": [
    "## Building the Convolutional Neural Network"
   ]
  },
  {
   "cell_type": "markdown",
   "id": "89e7cb80",
   "metadata": {
    "id": "ZFTetk8ngy0f",
    "papermill": {
     "duration": 0.055761,
     "end_time": "2021-11-16T11:18:23.373236",
     "exception": false,
     "start_time": "2021-11-16T11:18:23.317475",
     "status": "completed"
    },
    "tags": []
   },
   "source": [
    "### Defining the model"
   ]
  },
  {
   "cell_type": "code",
   "execution_count": 9,
   "id": "daa99c26",
   "metadata": {
    "execution": {
     "iopub.execute_input": "2021-11-16T11:18:23.488773Z",
     "iopub.status.busy": "2021-11-16T11:18:23.488178Z",
     "iopub.status.idle": "2021-11-16T11:18:23.549648Z",
     "shell.execute_reply": "2021-11-16T11:18:23.550234Z",
     "shell.execute_reply.started": "2021-11-15T23:07:36.422194Z"
    },
    "id": "1TR0JGP5gq2i",
    "papermill": {
     "duration": 0.121264,
     "end_time": "2021-11-16T11:18:23.550413",
     "exception": false,
     "start_time": "2021-11-16T11:18:23.429149",
     "status": "completed"
    },
    "tags": []
   },
   "outputs": [
    {
     "name": "stderr",
     "output_type": "stream",
     "text": [
      "\n",
      "User settings:\n",
      "\n",
      "   KMP_AFFINITY=granularity=fine,verbose,compact,1,0\n",
      "   KMP_BLOCKTIME=0\n",
      "   KMP_SETTINGS=1\n",
      "   KMP_WARNINGS=0\n",
      "\n",
      "Effective settings:\n",
      "\n",
      "   KMP_ABORT_DELAY=0\n",
      "   KMP_ADAPTIVE_LOCK_PROPS='1,1024'\n",
      "   KMP_ALIGN_ALLOC=64\n",
      "   KMP_ALL_THREADPRIVATE=128\n",
      "   KMP_ATOMIC_MODE=2\n",
      "   KMP_BLOCKTIME=0\n",
      "   KMP_CPUINFO_FILE: value is not defined\n",
      "   KMP_DETERMINISTIC_REDUCTION=false\n",
      "   KMP_DEVICE_THREAD_LIMIT=2147483647\n",
      "   KMP_DISP_NUM_BUFFERS=7\n",
      "   KMP_DUPLICATE_LIB_OK=false\n",
      "   KMP_ENABLE_TASK_THROTTLING=true\n",
      "   KMP_FORCE_REDUCTION: value is not defined\n",
      "   KMP_FOREIGN_THREADS_THREADPRIVATE=true\n",
      "   KMP_FORKJOIN_BARRIER='2,2'\n",
      "   KMP_FORKJOIN_BARRIER_PATTERN='hyper,hyper'\n",
      "   KMP_GTID_MODE=3\n",
      "   KMP_HANDLE_SIGNALS=false\n",
      "   KMP_HOT_TEAMS_MAX_LEVEL=1\n",
      "   KMP_HOT_TEAMS_MODE=0\n",
      "   KMP_INIT_AT_FORK=true\n",
      "   KMP_LIBRARY=throughput\n",
      "   KMP_LOCK_KIND=queuing\n",
      "   KMP_MALLOC_POOL_INCR=1M\n",
      "   KMP_NUM_LOCKS_IN_BLOCK=1\n",
      "   KMP_PLAIN_BARRIER='2,2'\n",
      "   KMP_PLAIN_BARRIER_PATTERN='hyper,hyper'\n",
      "   KMP_REDUCTION_BARRIER='1,1'\n",
      "   KMP_REDUCTION_BARRIER_PATTERN='hyper,hyper'\n",
      "   KMP_SCHEDULE='static,balanced;guided,iterative'\n",
      "   KMP_SETTINGS=true\n",
      "   KMP_SPIN_BACKOFF_PARAMS='4096,100'\n",
      "   KMP_STACKOFFSET=64\n",
      "   KMP_STACKPAD=0\n",
      "   KMP_STACKSIZE=8M\n",
      "   KMP_STORAGE_MAP=false\n",
      "   KMP_TASKING=2\n",
      "   KMP_TASKLOOP_MIN_TASKS=0\n",
      "   KMP_TASK_STEALING_CONSTRAINT=1\n",
      "   KMP_TEAMS_THREAD_LIMIT=4\n",
      "   KMP_TOPOLOGY_METHOD=all\n",
      "   KMP_USE_YIELD=1\n",
      "   KMP_VERSION=false\n",
      "   KMP_WARNINGS=false\n",
      "   OMP_AFFINITY_FORMAT='OMP: pid %P tid %i thread %n bound to OS proc set {%A}'\n",
      "   OMP_ALLOCATOR=omp_default_mem_alloc\n",
      "   OMP_CANCELLATION=false\n",
      "   OMP_DEFAULT_DEVICE=0\n",
      "   OMP_DISPLAY_AFFINITY=false\n",
      "   OMP_DISPLAY_ENV=false\n",
      "   OMP_DYNAMIC=false\n",
      "   OMP_MAX_ACTIVE_LEVELS=1\n",
      "   OMP_MAX_TASK_PRIORITY=0\n",
      "   OMP_NESTED: deprecated; max-active-levels-var=1\n",
      "   OMP_NUM_THREADS: value is not defined\n",
      "   OMP_PLACES: value is not defined\n",
      "   OMP_PROC_BIND='intel'\n",
      "   OMP_SCHEDULE='static'\n",
      "   OMP_STACKSIZE=8M\n",
      "   OMP_TARGET_OFFLOAD=DEFAULT\n",
      "   OMP_THREAD_LIMIT=2147483647\n",
      "   OMP_WAIT_POLICY=PASSIVE\n",
      "   KMP_AFFINITY='verbose,warnings,respect,granularity=fine,compact,1,0'\n",
      "\n",
      "2021-11-16 11:18:23.523784: I tensorflow/core/common_runtime/process_util.cc:146] Creating new thread pool with default inter op setting: 2. Tune using inter_op_parallelism_threads for best performance.\n"
     ]
    }
   ],
   "source": [
    "model = tf.keras.models.Sequential()"
   ]
  },
  {
   "cell_type": "markdown",
   "id": "4ba6cfbe",
   "metadata": {
    "id": "j92d4FE0hTZV",
    "papermill": {
     "duration": 0.056083,
     "end_time": "2021-11-16T11:18:23.662954",
     "exception": false,
     "start_time": "2021-11-16T11:18:23.606871",
     "status": "completed"
    },
    "tags": []
   },
   "source": [
    "### Added the first convolution layer\n",
    "\n",
    "Hyper-parameters of the convolution layer:\n",
    "- filters: 32\n",
    "- kernel_size (kernel size): 3\n",
    "- padding: same\n",
    "- activation function: relu\n",
    "- input_shape (input layer): (32, 32, 3)"
   ]
  },
  {
   "cell_type": "code",
   "execution_count": 10,
   "id": "c48f9c8a",
   "metadata": {
    "execution": {
     "iopub.execute_input": "2021-11-16T11:18:23.785387Z",
     "iopub.status.busy": "2021-11-16T11:18:23.779681Z",
     "iopub.status.idle": "2021-11-16T11:18:23.831850Z",
     "shell.execute_reply": "2021-11-16T11:18:23.832365Z",
     "shell.execute_reply.started": "2021-11-15T23:07:36.43007Z"
    },
    "id": "LSkL1iOvg_dE",
    "papermill": {
     "duration": 0.111985,
     "end_time": "2021-11-16T11:18:23.832540",
     "exception": false,
     "start_time": "2021-11-16T11:18:23.720555",
     "status": "completed"
    },
    "tags": []
   },
   "outputs": [],
   "source": [
    "model.add(tf.keras.layers.Conv2D(filters=32, kernel_size=3, padding=\"same\", activation=\"relu\", input_shape=[32, 32, 3]))"
   ]
  },
  {
   "cell_type": "markdown",
   "id": "d884fc6a",
   "metadata": {
    "id": "gfRAaRmWiSlZ",
    "papermill": {
     "duration": 0.056384,
     "end_time": "2021-11-16T11:18:23.946029",
     "exception": false,
     "start_time": "2021-11-16T11:18:23.889645",
     "status": "completed"
    },
    "tags": []
   },
   "source": [
    "### Adding the second convolution layer and the max-pooling layer\n",
    "\n",
    "Hyper-parameters of the convolution layer:\n",
    "- filters: 32\n",
    "- kernel_size (kernel size):3\n",
    "- padding: same\n",
    "- activation function: relu\n",
    "\n",
    "Max-pooling layer hyper-parameters:\n",
    "- pool_size: 2\n",
    "- strides: 2\n",
    "- padding: valid"
   ]
  },
  {
   "cell_type": "code",
   "execution_count": 11,
   "id": "27837f62",
   "metadata": {
    "execution": {
     "iopub.execute_input": "2021-11-16T11:18:24.066363Z",
     "iopub.status.busy": "2021-11-16T11:18:24.063141Z",
     "iopub.status.idle": "2021-11-16T11:18:24.075464Z",
     "shell.execute_reply": "2021-11-16T11:18:24.075868Z",
     "shell.execute_reply.started": "2021-11-15T23:07:36.454524Z"
    },
    "id": "sSl7Es5yidMp",
    "papermill": {
     "duration": 0.073021,
     "end_time": "2021-11-16T11:18:24.076033",
     "exception": false,
     "start_time": "2021-11-16T11:18:24.003012",
     "status": "completed"
    },
    "tags": []
   },
   "outputs": [],
   "source": [
    "model.add(tf.keras.layers.Conv2D(filters=32, kernel_size=3, padding=\"same\", activation=\"relu\"))"
   ]
  },
  {
   "cell_type": "code",
   "execution_count": 12,
   "id": "7251f423",
   "metadata": {
    "execution": {
     "iopub.execute_input": "2021-11-16T11:18:24.196124Z",
     "iopub.status.busy": "2021-11-16T11:18:24.195535Z",
     "iopub.status.idle": "2021-11-16T11:18:24.200531Z",
     "shell.execute_reply": "2021-11-16T11:18:24.201001Z",
     "shell.execute_reply.started": "2021-11-15T23:07:36.473108Z"
    },
    "id": "wmP9h5wliAR6",
    "papermill": {
     "duration": 0.067307,
     "end_time": "2021-11-16T11:18:24.201178",
     "exception": false,
     "start_time": "2021-11-16T11:18:24.133871",
     "status": "completed"
    },
    "tags": []
   },
   "outputs": [],
   "source": [
    "model.add(tf.keras.layers.MaxPool2D(pool_size=2, strides=2, padding='valid'))"
   ]
  },
  {
   "cell_type": "markdown",
   "id": "61546282",
   "metadata": {
    "id": "wd8ERDyvin-0",
    "papermill": {
     "duration": 0.056512,
     "end_time": "2021-11-16T11:18:24.314560",
     "exception": false,
     "start_time": "2021-11-16T11:18:24.258048",
     "status": "completed"
    },
    "tags": []
   },
   "source": [
    "### Adding the third convolution layer\n",
    "\n",
    "Hyper-parameters of the convolution layer:\n",
    "\n",
    "     filters: 64\n",
    "     kernel_size:3\n",
    "     padding: same\n",
    "     activation: relu\n"
   ]
  },
  {
   "cell_type": "code",
   "execution_count": 13,
   "id": "e9ca362b",
   "metadata": {
    "execution": {
     "iopub.execute_input": "2021-11-16T11:18:24.431513Z",
     "iopub.status.busy": "2021-11-16T11:18:24.430903Z",
     "iopub.status.idle": "2021-11-16T11:18:24.443051Z",
     "shell.execute_reply": "2021-11-16T11:18:24.443572Z",
     "shell.execute_reply.started": "2021-11-15T23:07:36.4839Z"
    },
    "id": "i9HWy6aFixEw",
    "papermill": {
     "duration": 0.072249,
     "end_time": "2021-11-16T11:18:24.443735",
     "exception": false,
     "start_time": "2021-11-16T11:18:24.371486",
     "status": "completed"
    },
    "tags": []
   },
   "outputs": [],
   "source": [
    "model.add(tf.keras.layers.Conv2D(filters=64, kernel_size=3, padding=\"same\", activation=\"relu\"))"
   ]
  },
  {
   "cell_type": "markdown",
   "id": "301900bc",
   "metadata": {
    "id": "O55kyOQGi44V",
    "papermill": {
     "duration": 0.057093,
     "end_time": "2021-11-16T11:18:24.557541",
     "exception": false,
     "start_time": "2021-11-16T11:18:24.500448",
     "status": "completed"
    },
    "tags": []
   },
   "source": [
    "### Adding the fourth convolution layer and the max pooling layer\n",
    "\n",
    "Hyper-parameters of the convolution layer:\n",
    "\n",
    "     filters: 64\n",
    "     kernel_size:3\n",
    "     padding: same\n",
    "     activation: relu\n",
    "\n",
    "Hyper-parameters of the max pooling layer:\n",
    "\n",
    "     pool_size: 2\n",
    "     strides: 2\n",
    "     padding: valid"
   ]
  },
  {
   "cell_type": "code",
   "execution_count": 14,
   "id": "c93f6dfd",
   "metadata": {
    "execution": {
     "iopub.execute_input": "2021-11-16T11:18:24.674646Z",
     "iopub.status.busy": "2021-11-16T11:18:24.674054Z",
     "iopub.status.idle": "2021-11-16T11:18:24.687001Z",
     "shell.execute_reply": "2021-11-16T11:18:24.687616Z",
     "shell.execute_reply.started": "2021-11-15T23:07:36.506046Z"
    },
    "id": "5b7vAuhjjCF2",
    "papermill": {
     "duration": 0.073142,
     "end_time": "2021-11-16T11:18:24.687787",
     "exception": false,
     "start_time": "2021-11-16T11:18:24.614645",
     "status": "completed"
    },
    "tags": []
   },
   "outputs": [],
   "source": [
    "model.add(tf.keras.layers.Conv2D(filters=64, kernel_size=3, padding=\"same\", activation=\"relu\"))"
   ]
  },
  {
   "cell_type": "code",
   "execution_count": 15,
   "id": "44986fbf",
   "metadata": {
    "execution": {
     "iopub.execute_input": "2021-11-16T11:18:24.809861Z",
     "iopub.status.busy": "2021-11-16T11:18:24.809228Z",
     "iopub.status.idle": "2021-11-16T11:18:24.817128Z",
     "shell.execute_reply": "2021-11-16T11:18:24.817639Z",
     "shell.execute_reply.started": "2021-11-15T23:07:36.526458Z"
    },
    "id": "oc493G2BjFhg",
    "papermill": {
     "duration": 0.070132,
     "end_time": "2021-11-16T11:18:24.817807",
     "exception": false,
     "start_time": "2021-11-16T11:18:24.747675",
     "status": "completed"
    },
    "tags": []
   },
   "outputs": [],
   "source": [
    "model.add(tf.keras.layers.MaxPool2D(pool_size=2, strides=2, padding='valid'))"
   ]
  },
  {
   "cell_type": "markdown",
   "id": "f63d2bc5",
   "metadata": {
    "id": "-hGnR3aXjKbZ",
    "papermill": {
     "duration": 0.058213,
     "end_time": "2021-11-16T11:18:24.933384",
     "exception": false,
     "start_time": "2021-11-16T11:18:24.875171",
     "status": "completed"
    },
    "tags": []
   },
   "source": [
    "### Adding the flattening layer"
   ]
  },
  {
   "cell_type": "code",
   "execution_count": 16,
   "id": "7ed860cf",
   "metadata": {
    "execution": {
     "iopub.execute_input": "2021-11-16T11:18:25.050918Z",
     "iopub.status.busy": "2021-11-16T11:18:25.050343Z",
     "iopub.status.idle": "2021-11-16T11:18:25.058067Z",
     "shell.execute_reply": "2021-11-16T11:18:25.058564Z",
     "shell.execute_reply.started": "2021-11-15T23:07:36.538364Z"
    },
    "id": "QLzu2cCVjI5Z",
    "papermill": {
     "duration": 0.06798,
     "end_time": "2021-11-16T11:18:25.058735",
     "exception": false,
     "start_time": "2021-11-16T11:18:24.990755",
     "status": "completed"
    },
    "tags": []
   },
   "outputs": [],
   "source": [
    "model.add(tf.keras.layers.Flatten())"
   ]
  },
  {
   "cell_type": "markdown",
   "id": "21222dea",
   "metadata": {
    "id": "GpeRUvVWjR1W",
    "papermill": {
     "duration": 0.056369,
     "end_time": "2021-11-16T11:18:25.172668",
     "exception": false,
     "start_time": "2021-11-16T11:18:25.116299",
     "status": "completed"
    },
    "tags": []
   },
   "source": [
    "### Adding the first dense (fully-connected) layer\n",
    "\n",
    "Dense layer hyper-parameters:\n",
    "- units/neurons: 128\n",
    "- activation function: relu"
   ]
  },
  {
   "cell_type": "code",
   "execution_count": 17,
   "id": "3f58c11e",
   "metadata": {
    "execution": {
     "iopub.execute_input": "2021-11-16T11:18:25.289894Z",
     "iopub.status.busy": "2021-11-16T11:18:25.289350Z",
     "iopub.status.idle": "2021-11-16T11:18:25.307913Z",
     "shell.execute_reply": "2021-11-16T11:18:25.308479Z",
     "shell.execute_reply.started": "2021-11-15T23:07:36.55273Z"
    },
    "id": "FWzYY8kKjhnZ",
    "papermill": {
     "duration": 0.079046,
     "end_time": "2021-11-16T11:18:25.308654",
     "exception": false,
     "start_time": "2021-11-16T11:18:25.229608",
     "status": "completed"
    },
    "tags": []
   },
   "outputs": [],
   "source": [
    "model.add(tf.keras.layers.Dense(units=128, activation='relu'))"
   ]
  },
  {
   "cell_type": "markdown",
   "id": "30c882de",
   "metadata": {
    "id": "UaakKTqRjrkF",
    "papermill": {
     "duration": 0.056293,
     "end_time": "2021-11-16T11:18:25.422199",
     "exception": false,
     "start_time": "2021-11-16T11:18:25.365906",
     "status": "completed"
    },
    "tags": []
   },
   "source": [
    "### Adding the output layer\n",
    "\n",
    "Output layer hyper-parameters:\n",
    "\n",
    "  - units/neurons: 10 (number of classes)\n",
    "  - activation: softmax"
   ]
  },
  {
   "cell_type": "code",
   "execution_count": 18,
   "id": "9da0fe46",
   "metadata": {
    "execution": {
     "iopub.execute_input": "2021-11-16T11:18:25.540814Z",
     "iopub.status.busy": "2021-11-16T11:18:25.537889Z",
     "iopub.status.idle": "2021-11-16T11:18:25.550061Z",
     "shell.execute_reply": "2021-11-16T11:18:25.550607Z",
     "shell.execute_reply.started": "2021-11-15T23:07:36.576705Z"
    },
    "id": "4t-JmzRvjnBj",
    "papermill": {
     "duration": 0.072055,
     "end_time": "2021-11-16T11:18:25.550772",
     "exception": false,
     "start_time": "2021-11-16T11:18:25.478717",
     "status": "completed"
    },
    "tags": []
   },
   "outputs": [],
   "source": [
    "model.add(tf.keras.layers.Dense(units=10, activation='softmax'))"
   ]
  },
  {
   "cell_type": "code",
   "execution_count": 19,
   "id": "ea85c87f",
   "metadata": {
    "execution": {
     "iopub.execute_input": "2021-11-16T11:18:25.671621Z",
     "iopub.status.busy": "2021-11-16T11:18:25.670668Z",
     "iopub.status.idle": "2021-11-16T11:18:25.676246Z",
     "shell.execute_reply": "2021-11-16T11:18:25.676705Z",
     "shell.execute_reply.started": "2021-11-15T23:07:36.597012Z"
    },
    "executionInfo": {
     "elapsed": 124915,
     "status": "ok",
     "timestamp": 1587343144509,
     "user": {
      "displayName": "Fabio Spak",
      "photoUrl": "https://lh3.googleusercontent.com/a-/AOh14Gh5tkVvfK14igqB5tm5e6mMjKYZxeZEPf0g3sbo5Q=s64",
      "userId": "12631437385440185352"
     },
     "user_tz": 180
    },
    "id": "aRr3bCU-ti06",
    "outputId": "003bbb17-c297-4615-825f-3cda1af667d2",
    "papermill": {
     "duration": 0.069222,
     "end_time": "2021-11-16T11:18:25.676865",
     "exception": false,
     "start_time": "2021-11-16T11:18:25.607643",
     "status": "completed"
    },
    "tags": []
   },
   "outputs": [
    {
     "name": "stdout",
     "output_type": "stream",
     "text": [
      "Model: \"sequential\"\n",
      "_________________________________________________________________\n",
      "Layer (type)                 Output Shape              Param #   \n",
      "=================================================================\n",
      "conv2d (Conv2D)              (None, 32, 32, 32)        896       \n",
      "_________________________________________________________________\n",
      "conv2d_1 (Conv2D)            (None, 32, 32, 32)        9248      \n",
      "_________________________________________________________________\n",
      "max_pooling2d (MaxPooling2D) (None, 16, 16, 32)        0         \n",
      "_________________________________________________________________\n",
      "conv2d_2 (Conv2D)            (None, 16, 16, 64)        18496     \n",
      "_________________________________________________________________\n",
      "conv2d_3 (Conv2D)            (None, 16, 16, 64)        36928     \n",
      "_________________________________________________________________\n",
      "max_pooling2d_1 (MaxPooling2 (None, 8, 8, 64)          0         \n",
      "_________________________________________________________________\n",
      "flatten (Flatten)            (None, 4096)              0         \n",
      "_________________________________________________________________\n",
      "dense (Dense)                (None, 128)               524416    \n",
      "_________________________________________________________________\n",
      "dense_1 (Dense)              (None, 10)                1290      \n",
      "=================================================================\n",
      "Total params: 591,274\n",
      "Trainable params: 591,274\n",
      "Non-trainable params: 0\n",
      "_________________________________________________________________\n"
     ]
    }
   ],
   "source": [
    "model.summary()"
   ]
  },
  {
   "cell_type": "markdown",
   "id": "541c67b9",
   "metadata": {
    "id": "DYgvbNihtprw",
    "papermill": {
     "duration": 0.056771,
     "end_time": "2021-11-16T11:18:25.791542",
     "exception": false,
     "start_time": "2021-11-16T11:18:25.734771",
     "status": "completed"
    },
    "tags": []
   },
   "source": [
    "### Compiling the model\n",
    "\n",
    "#### sparse_categorical_accuracy\n",
    "\n",
    "https://stackoverflow.com/questions/44477489/keras-difference-between-categorical-accuracy-and-sparse-categorical-accuracy "
   ]
  },
  {
   "cell_type": "code",
   "execution_count": 20,
   "id": "ccb1599c",
   "metadata": {
    "execution": {
     "iopub.execute_input": "2021-11-16T11:18:25.908600Z",
     "iopub.status.busy": "2021-11-16T11:18:25.908006Z",
     "iopub.status.idle": "2021-11-16T11:18:25.912315Z",
     "shell.execute_reply": "2021-11-16T11:18:25.912840Z",
     "shell.execute_reply.started": "2021-11-15T23:07:36.610043Z"
    },
    "executionInfo": {
     "elapsed": 124910,
     "status": "ok",
     "timestamp": 1587343144510,
     "user": {
      "displayName": "Fabio Spak",
      "photoUrl": "https://lh3.googleusercontent.com/a-/AOh14Gh5tkVvfK14igqB5tm5e6mMjKYZxeZEPf0g3sbo5Q=s64",
      "userId": "12631437385440185352"
     },
     "user_tz": 180
    },
    "id": "vh7gBIk-vu0S",
    "outputId": "00f6a98a-588f-4537-f9d5-122bbd6b87a1",
    "papermill": {
     "duration": 0.064448,
     "end_time": "2021-11-16T11:18:25.912988",
     "exception": false,
     "start_time": "2021-11-16T11:18:25.848540",
     "status": "completed"
    },
    "tags": []
   },
   "outputs": [
    {
     "data": {
      "text/plain": [
       "array([3], dtype=uint8)"
      ]
     },
     "execution_count": 20,
     "metadata": {},
     "output_type": "execute_result"
    }
   ],
   "source": [
    "# 0 0 0 1 0 0 0 0 0 0\n",
    "y_test[0]"
   ]
  },
  {
   "cell_type": "code",
   "execution_count": 21,
   "id": "90e01378",
   "metadata": {
    "execution": {
     "iopub.execute_input": "2021-11-16T11:18:26.030133Z",
     "iopub.status.busy": "2021-11-16T11:18:26.029546Z",
     "iopub.status.idle": "2021-11-16T11:18:26.040545Z",
     "shell.execute_reply": "2021-11-16T11:18:26.040999Z",
     "shell.execute_reply.started": "2021-11-15T23:07:36.61692Z"
    },
    "id": "oYHELxz4tsa-",
    "papermill": {
     "duration": 0.071009,
     "end_time": "2021-11-16T11:18:26.041181",
     "exception": false,
     "start_time": "2021-11-16T11:18:25.970172",
     "status": "completed"
    },
    "tags": []
   },
   "outputs": [],
   "source": [
    "model.compile(loss=\"sparse_categorical_crossentropy\", optimizer=\"Adam\", metrics=[\"sparse_categorical_accuracy\"])"
   ]
  },
  {
   "cell_type": "markdown",
   "id": "49f415f4",
   "metadata": {
    "id": "Gox3SmwUtwgX",
    "papermill": {
     "duration": 0.056932,
     "end_time": "2021-11-16T11:18:26.156078",
     "exception": false,
     "start_time": "2021-11-16T11:18:26.099146",
     "status": "completed"
    },
    "tags": []
   },
   "source": [
    "### Training the model"
   ]
  },
  {
   "cell_type": "code",
   "execution_count": 22,
   "id": "f529d281",
   "metadata": {
    "execution": {
     "iopub.execute_input": "2021-11-16T11:18:26.273526Z",
     "iopub.status.busy": "2021-11-16T11:18:26.272901Z",
     "iopub.status.idle": "2021-11-16T11:24:51.882493Z",
     "shell.execute_reply": "2021-11-16T11:24:51.883211Z",
     "shell.execute_reply.started": "2021-11-15T23:07:36.668581Z"
    },
    "executionInfo": {
     "elapsed": 171116,
     "status": "ok",
     "timestamp": 1587343190733,
     "user": {
      "displayName": "Fabio Spak",
      "photoUrl": "https://lh3.googleusercontent.com/a-/AOh14Gh5tkVvfK14igqB5tm5e6mMjKYZxeZEPf0g3sbo5Q=s64",
      "userId": "12631437385440185352"
     },
     "user_tz": 180
    },
    "id": "D3MHvRYKe9fN",
    "outputId": "0190bbd9-5e99-4e65-85db-85f5ecd79bc3",
    "papermill": {
     "duration": 385.670221,
     "end_time": "2021-11-16T11:24:51.883427",
     "exception": false,
     "start_time": "2021-11-16T11:18:26.213206",
     "status": "completed"
    },
    "tags": []
   },
   "outputs": [
    {
     "name": "stderr",
     "output_type": "stream",
     "text": [
      "2021-11-16 11:18:27.479410: I tensorflow/compiler/mlir/mlir_graph_optimization_pass.cc:185] None of the MLIR Optimization Passes are enabled (registered 2)\n"
     ]
    },
    {
     "name": "stdout",
     "output_type": "stream",
     "text": [
      "Epoch 1/5\n",
      "1563/1563 [==============================] - 76s 48ms/step - loss: 1.3804 - sparse_categorical_accuracy: 0.4996\n",
      "Epoch 2/5\n",
      "1563/1563 [==============================] - 75s 48ms/step - loss: 0.9149 - sparse_categorical_accuracy: 0.6754\n",
      "Epoch 3/5\n",
      "1563/1563 [==============================] - 76s 48ms/step - loss: 0.7311 - sparse_categorical_accuracy: 0.7429\n",
      "Epoch 4/5\n",
      "1563/1563 [==============================] - 76s 49ms/step - loss: 0.6019 - sparse_categorical_accuracy: 0.7879\n",
      "Epoch 5/5\n",
      "1563/1563 [==============================] - 81s 52ms/step - loss: 0.4967 - sparse_categorical_accuracy: 0.8258\n"
     ]
    },
    {
     "data": {
      "text/plain": [
       "<keras.callbacks.History at 0x7efd858027d0>"
      ]
     },
     "execution_count": 22,
     "metadata": {},
     "output_type": "execute_result"
    }
   ],
   "source": [
    "model.fit(X_train, y_train, epochs=5)"
   ]
  },
  {
   "cell_type": "markdown",
   "id": "25ee00c1",
   "metadata": {
    "id": "D8C7Pm0NuOrJ",
    "papermill": {
     "duration": 1.038226,
     "end_time": "2021-11-16T11:24:53.953813",
     "exception": false,
     "start_time": "2021-11-16T11:24:52.915587",
     "status": "completed"
    },
    "tags": []
   },
   "source": [
    "### Evaluating the model"
   ]
  },
  {
   "cell_type": "code",
   "execution_count": 23,
   "id": "85e5a337",
   "metadata": {
    "execution": {
     "iopub.execute_input": "2021-11-16T11:24:56.055862Z",
     "iopub.status.busy": "2021-11-16T11:24:56.055250Z",
     "iopub.status.idle": "2021-11-16T11:25:01.259074Z",
     "shell.execute_reply": "2021-11-16T11:25:01.258604Z",
     "shell.execute_reply.started": "2021-11-15T23:08:53.223142Z"
    },
    "executionInfo": {
     "elapsed": 171788,
     "status": "ok",
     "timestamp": 1587343191414,
     "user": {
      "displayName": "Fabio Spak",
      "photoUrl": "https://lh3.googleusercontent.com/a-/AOh14Gh5tkVvfK14igqB5tm5e6mMjKYZxeZEPf0g3sbo5Q=s64",
      "userId": "12631437385440185352"
     },
     "user_tz": 180
    },
    "id": "Z9r8TtNet3D0",
    "outputId": "0a104970-52b6-49ac-c506-c79a1476ae41",
    "papermill": {
     "duration": 6.255641,
     "end_time": "2021-11-16T11:25:01.259255",
     "exception": false,
     "start_time": "2021-11-16T11:24:55.003614",
     "status": "completed"
    },
    "tags": []
   },
   "outputs": [
    {
     "name": "stdout",
     "output_type": "stream",
     "text": [
      "313/313 [==============================] - 5s 15ms/step - loss: 0.7747 - sparse_categorical_accuracy: 0.7376\n"
     ]
    }
   ],
   "source": [
    "test_loss, test_accuracy = model.evaluate(X_test, y_test)"
   ]
  },
  {
   "cell_type": "code",
   "execution_count": 24,
   "id": "176835b2",
   "metadata": {
    "execution": {
     "iopub.execute_input": "2021-11-16T11:25:03.475274Z",
     "iopub.status.busy": "2021-11-16T11:25:03.474571Z",
     "iopub.status.idle": "2021-11-16T11:25:03.477609Z",
     "shell.execute_reply": "2021-11-16T11:25:03.478297Z",
     "shell.execute_reply.started": "2021-11-15T23:08:53.224616Z"
    },
    "executionInfo": {
     "elapsed": 171777,
     "status": "ok",
     "timestamp": 1587343191416,
     "user": {
      "displayName": "Fabio Spak",
      "photoUrl": "https://lh3.googleusercontent.com/a-/AOh14Gh5tkVvfK14igqB5tm5e6mMjKYZxeZEPf0g3sbo5Q=s64",
      "userId": "12631437385440185352"
     },
     "user_tz": 180
    },
    "id": "0rpAPpfzuV0p",
    "outputId": "b3eaaaa1-1a75-48d8-a00a-d145c9ffb473",
    "papermill": {
     "duration": 1.152445,
     "end_time": "2021-11-16T11:25:03.478507",
     "exception": false,
     "start_time": "2021-11-16T11:25:02.326062",
     "status": "completed"
    },
    "tags": []
   },
   "outputs": [
    {
     "name": "stdout",
     "output_type": "stream",
     "text": [
      "Test accuracy: 0.7376000285148621\n"
     ]
    }
   ],
   "source": [
    "print(\"Test accuracy: {}\".format(test_accuracy))"
   ]
  },
  {
   "cell_type": "code",
   "execution_count": 25,
   "id": "e65a7d89",
   "metadata": {
    "execution": {
     "iopub.execute_input": "2021-11-16T11:25:05.576380Z",
     "iopub.status.busy": "2021-11-16T11:25:05.575655Z",
     "iopub.status.idle": "2021-11-16T11:25:05.578459Z",
     "shell.execute_reply": "2021-11-16T11:25:05.578889Z",
     "shell.execute_reply.started": "2021-11-15T23:08:53.225941Z"
    },
    "executionInfo": {
     "elapsed": 171768,
     "status": "ok",
     "timestamp": 1587343191416,
     "user": {
      "displayName": "Fabio Spak",
      "photoUrl": "https://lh3.googleusercontent.com/a-/AOh14Gh5tkVvfK14igqB5tm5e6mMjKYZxeZEPf0g3sbo5Q=s64",
      "userId": "12631437385440185352"
     },
     "user_tz": 180
    },
    "id": "lp7HNHS7I0HU",
    "outputId": "ecfa9624-ee2c-4dc5-e1c8-ce42368c9aac",
    "papermill": {
     "duration": 1.055306,
     "end_time": "2021-11-16T11:25:05.579054",
     "exception": false,
     "start_time": "2021-11-16T11:25:04.523748",
     "status": "completed"
    },
    "tags": []
   },
   "outputs": [
    {
     "data": {
      "text/plain": [
       "0.7747055888175964"
      ]
     },
     "execution_count": 25,
     "metadata": {},
     "output_type": "execute_result"
    }
   ],
   "source": [
    "test_loss"
   ]
  },
  {
   "cell_type": "markdown",
   "id": "56ac368a",
   "metadata": {
    "papermill": {
     "duration": 1.053775,
     "end_time": "2021-11-16T11:25:07.676367",
     "exception": false,
     "start_time": "2021-11-16T11:25:06.622592",
     "status": "completed"
    },
    "tags": []
   },
   "source": [
    "# If you find this notebook useful, support with an upvote 👍"
   ]
  }
 ],
 "metadata": {
  "kernelspec": {
   "display_name": "Python 3",
   "language": "python",
   "name": "python3"
  },
  "language_info": {
   "codemirror_mode": {
    "name": "ipython",
    "version": 3
   },
   "file_extension": ".py",
   "mimetype": "text/x-python",
   "name": "python",
   "nbconvert_exporter": "python",
   "pygments_lexer": "ipython3",
   "version": "3.7.10"
  },
  "papermill": {
   "default_parameters": {},
   "duration": 437.957714,
   "end_time": "2021-11-16T11:25:12.003442",
   "environment_variables": {},
   "exception": null,
   "input_path": "__notebook__.ipynb",
   "output_path": "__notebook__.ipynb",
   "parameters": {},
   "start_time": "2021-11-16T11:17:54.045728",
   "version": "2.3.3"
  }
 },
 "nbformat": 4,
 "nbformat_minor": 5
}
